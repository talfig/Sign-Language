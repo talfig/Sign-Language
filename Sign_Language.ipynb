{
  "cells": [
    {
      "cell_type": "code",
      "execution_count": 239,
      "metadata": {
        "id": "_qXJTneqH3kH"
      },
      "outputs": [],
      "source": [
        "import torch\n",
        "import torchvision\n",
        "import pandas as pd\n",
        "import numpy as np\n",
        "import matplotlib.pyplot as plt\n",
        "import torch.nn as nn\n",
        "from torch.utils.data import DataLoader, Dataset\n",
        "from torchvision import transforms"
      ]
    },
    {
      "cell_type": "code",
      "execution_count": 240,
      "metadata": {
        "id": "3vskEiVKJByA"
      },
      "outputs": [],
      "source": [
        "df_train = pd.read_csv(\"/content/drive/MyDrive/Sign_Language/sign_mnist_train.csv\")\n",
        "df_test = pd.read_csv(\"/content/drive/MyDrive/Sign_Language/sign_mnist_test.csv\")"
      ]
    },
    {
      "cell_type": "code",
      "execution_count": 241,
      "metadata": {
        "colab": {
          "base_uri": "https://localhost:8080/"
        },
        "id": "o5zT9FU8SaO4",
        "outputId": "9fa3e295-f08f-443e-8e9a-84af8ac362d0"
      },
      "outputs": [
        {
          "output_type": "stream",
          "name": "stdout",
          "text": [
            "labels = [ 3  6  2 ... 18 17 23]\n",
            "pixels = [[107 118 127 ... 204 203 202]\n",
            " [155 157 156 ... 103 135 149]\n",
            " [187 188 188 ... 195 194 195]\n",
            " ...\n",
            " [174 174 174 ... 202 200 200]\n",
            " [177 181 184 ...  64  87  93]\n",
            " [179 180 180 ... 205 209 215]]\n"
          ]
        }
      ],
      "source": [
        "# Separate labels and pixel values\n",
        "labels_train = df_train.iloc[:, 0].values\n",
        "pixels_train = df_train.iloc[:, 1:].values\n",
        "print(f\"labels = {labels_train}\\npixels = {pixels_train}\")"
      ]
    },
    {
      "cell_type": "code",
      "source": [
        "# Separate labels and pixel values\n",
        "labels_test = df_test.iloc[:, 0].values\n",
        "pixels_test = df_test.iloc[:, 1:].values\n",
        "print(f\"labels = {labels_test}\\npixels = {pixels_test}\")"
      ],
      "metadata": {
        "colab": {
          "base_uri": "https://localhost:8080/"
        },
        "id": "8bWGrkisksda",
        "outputId": "67d19188-537a-4d20-ecec-5eb21fe3b31a"
      },
      "execution_count": 242,
      "outputs": [
        {
          "output_type": "stream",
          "name": "stdout",
          "text": [
            "labels = [ 6  5 10 ...  2  4  2]\n",
            "pixels = [[149 149 150 ... 112 120 107]\n",
            " [126 128 131 ... 184 182 180]\n",
            " [ 85  88  92 ... 225 224 222]\n",
            " ...\n",
            " [190 191 190 ... 211 209 208]\n",
            " [201 205 208 ...  67  70  63]\n",
            " [173 174 173 ... 195 193 192]]\n"
          ]
        }
      ]
    },
    {
      "cell_type": "code",
      "execution_count": 243,
      "metadata": {
        "id": "ZgaMMK67MDQj"
      },
      "outputs": [],
      "source": [
        "class AlexNet(nn.Module):\n",
        "  def __init__(self, num_classes, dropout=0.5):\n",
        "      super(AlexNet, self).__init__()\n",
        "      self.features = nn.Sequential(\n",
        "          nn.Conv2d(1, 64, 5, stride=1, padding=2),  # Adjusted kernel size, stride, and padding\n",
        "          nn.ReLU(inplace=True),\n",
        "          nn.MaxPool2d(kernel_size=2, stride=2),  # Adjusted kernel size and stride\n",
        "          nn.Conv2d(64, 192, 5, stride=1, padding=2),\n",
        "          nn.ReLU(inplace=True),\n",
        "          nn.MaxPool2d(kernel_size=2, stride=2),\n",
        "          nn.Conv2d(192, 384, 3, stride=1, padding=1),\n",
        "          nn.ReLU(inplace=True),\n",
        "          nn.Conv2d(384, 256, 3, stride=1, padding=1),\n",
        "          nn.ReLU(inplace=True),\n",
        "          nn.Conv2d(256, 256, 3, stride=1, padding=1),\n",
        "          nn.ReLU(inplace=True),\n",
        "          nn.MaxPool2d(kernel_size=2, stride=2)  # Adjusted kernel size and stride\n",
        "      )\n",
        "      self.classifier = nn.Sequential(\n",
        "          nn.Dropout(p=dropout),\n",
        "          nn.Linear(256 * 3 * 3, 4096),  # Adjusted dimensions based on feature map size\n",
        "          nn.ReLU(inplace=True),\n",
        "          nn.Dropout(p=dropout),\n",
        "          nn.Linear(4096, 4096),\n",
        "          nn.ReLU(inplace=True),\n",
        "          nn.Linear(4096, num_classes),  # Adjusted to match the number of classes\n",
        "          nn.Softmax(dim=1)\n",
        "      )\n",
        "\n",
        "  def forward(self, x):\n",
        "      x = self.features(x)\n",
        "      x = torch.flatten(x, start_dim=1)  # Flatten the tensor\n",
        "      x = self.classifier(x)\n",
        "      return x"
      ]
    },
    {
      "cell_type": "code",
      "execution_count": 244,
      "metadata": {
        "colab": {
          "base_uri": "https://localhost:8080/"
        },
        "id": "XbKBEHPsYU_T",
        "outputId": "92a19f60-9420-4c29-c6dc-f8f35b7088f8"
      },
      "outputs": [
        {
          "output_type": "stream",
          "name": "stdout",
          "text": [
            "Number of unique labels: 24\n"
          ]
        }
      ],
      "source": [
        "NUM_CLASSES = df_train.iloc[:, 0].nunique()\n",
        "print(f'Number of unique labels: {NUM_CLASSES}')"
      ]
    },
    {
      "cell_type": "code",
      "execution_count": 245,
      "metadata": {
        "id": "3gJg_MDIUua8"
      },
      "outputs": [],
      "source": [
        "# Define your device\n",
        "device = torch.device(\"cuda\" if torch.cuda.is_available() else \"cpu\")\n",
        "\n",
        "model = AlexNet(num_classes=NUM_CLASSES).to(device)\n",
        "epochs = 20 # number of single passes on the network\n",
        "loss_fnPrecents = nn.CrossEntropyLoss(ignore_index=24)\n",
        "optimizer = torch.optim.Adam(model.parameters(), lr=1e-2)"
      ]
    },
    {
      "cell_type": "code",
      "execution_count": 246,
      "metadata": {
        "id": "9-CUuKvwTlvG"
      },
      "outputs": [],
      "source": [
        "class SignDataset(Dataset):\n",
        "    def __init__(self, pixels, labels, transform=None):\n",
        "        self.pixels = pixels\n",
        "        self.labels = labels\n",
        "        self.transform = transform\n",
        "\n",
        "    def __len__(self):\n",
        "        return len(self.labels)\n",
        "\n",
        "    def __getitem__(self, idx):\n",
        "        image = self.pixels[idx].reshape(28, 28).astype('float32')\n",
        "        label = self.labels[idx]\n",
        "\n",
        "        if self.transform:\n",
        "            image = self.transform(image)\n",
        "\n",
        "        return image, label"
      ]
    },
    {
      "cell_type": "code",
      "execution_count": 250,
      "metadata": {
        "id": "fCPECXOrSY4V"
      },
      "outputs": [],
      "source": [
        "transform = transforms.Compose([\n",
        "    transforms.ToTensor()\n",
        "])\n",
        "train_dataset = SignDataset(pixels_train, labels_train, transform=transform)\n",
        "train_dataloader = DataLoader(train_dataset, batch_size=200)"
      ]
    },
    {
      "cell_type": "code",
      "execution_count": 251,
      "metadata": {
        "id": "YYqDC0vmfK7D"
      },
      "outputs": [],
      "source": [
        "# Training loop\n",
        "def train_model(model, dataloader, epochs, optimizer, loss_fn, device):\n",
        "    model.train()\n",
        "    for epoch in range(epochs):\n",
        "        running_loss = 0.0\n",
        "        for images, labels in dataloader:\n",
        "            images, labels = images.to(device), labels.to(device)\n",
        "\n",
        "            # Forward pass\n",
        "            outputs = model.forward(images)\n",
        "            loss = loss_fn(outputs, labels)\n",
        "\n",
        "            # Backward pass and optimization\n",
        "            optimizer.zero_grad()\n",
        "            loss.backward()\n",
        "            optimizer.step()\n",
        "\n",
        "            running_loss += loss.item()\n",
        "\n",
        "        print(f\"Epoch [{epoch+1}/{epochs}], Loss: {running_loss/len(dataloader):.4f}\")\n",
        "\n",
        "def evaluate_model(model, dataloader, device):\n",
        "    model.eval()  # Set the model to evaluation mode\n",
        "    total, correct = 0, 0\n",
        "    with torch.no_grad():\n",
        "        for data, targets in dataloader:\n",
        "            data, targets = data.to(device), targets.to(device)  # Ensure data and targets are on the correct device\n",
        "            outputs = model.forward(data)\n",
        "            _, predicted = torch.max(outputs.data, 1)\n",
        "            total += targets.size(0)\n",
        "            correct += (predicted == targets).sum().item()\n",
        "\n",
        "    accuracy = 100 * correct / total  # Calculate accuracy as a percentage\n",
        "    print(f\"Total Correct: {correct}\")\n",
        "    print(f\"Total Samples: {total}\")\n",
        "    print(f\"Accuracy: {accuracy}%\")"
      ]
    },
    {
      "cell_type": "code",
      "execution_count": 253,
      "metadata": {
        "id": "3wzzlsyTUo92",
        "colab": {
          "base_uri": "https://localhost:8080/"
        },
        "outputId": "09a851e3-8394-4399-f689-4cbc7880d926"
      },
      "outputs": [
        {
          "output_type": "stream",
          "name": "stdout",
          "text": [
            "Epoch [1/20], Loss: 3.2013\n",
            "Epoch [2/20], Loss: 3.2013\n",
            "Epoch [3/20], Loss: 3.2013\n",
            "Epoch [4/20], Loss: 3.2013\n",
            "Epoch [5/20], Loss: 3.2013\n",
            "Epoch [6/20], Loss: 3.2013\n",
            "Epoch [7/20], Loss: 3.2013\n",
            "Epoch [8/20], Loss: 3.2013\n",
            "Epoch [9/20], Loss: 3.2013\n",
            "Epoch [10/20], Loss: 3.2013\n",
            "Epoch [11/20], Loss: 3.2013\n",
            "Epoch [12/20], Loss: 3.2013\n",
            "Epoch [13/20], Loss: 3.2013\n",
            "Epoch [14/20], Loss: 3.2013\n",
            "Epoch [15/20], Loss: 3.2013\n",
            "Epoch [16/20], Loss: 3.2013\n",
            "Epoch [17/20], Loss: 3.2013\n",
            "Epoch [18/20], Loss: 3.2013\n",
            "Epoch [19/20], Loss: 3.2013\n",
            "Epoch [20/20], Loss: 3.2013\n"
          ]
        }
      ],
      "source": [
        "train_model(model=model,\n",
        "            dataloader=train_dataloader,\n",
        "            epochs=epochs,\n",
        "            optimizer=optimizer,\n",
        "            loss_fn=loss_fnPrecents,\n",
        "            device=device)"
      ]
    },
    {
      "cell_type": "code",
      "execution_count": 254,
      "metadata": {
        "id": "0bQyyWPZmhKd"
      },
      "outputs": [],
      "source": [
        "val_dataset = SignDataset(pixels_test, labels_test, transform=transform)\n",
        "val_dataloader = DataLoader(val_dataset, batch_size=200)"
      ]
    },
    {
      "cell_type": "code",
      "execution_count": 255,
      "metadata": {
        "id": "-qsRT3bGm5oq",
        "colab": {
          "base_uri": "https://localhost:8080/"
        },
        "outputId": "ba02c712-27da-4ddc-efe9-201a6ecdde95"
      },
      "outputs": [
        {
          "output_type": "stream",
          "name": "stdout",
          "text": [
            "Total Correct: 1199\n",
            "Total Samples: 27455\n",
            "Accuracy: 4.3671462393006735%\n"
          ]
        }
      ],
      "source": [
        "evaluate_model(\n",
        "    model=model,\n",
        "    dataloader=train_dataloader,\n",
        "    device=device\n",
        ")"
      ]
    },
    {
      "cell_type": "code",
      "execution_count": 256,
      "metadata": {
        "id": "h3a6pVlOmYVh",
        "colab": {
          "base_uri": "https://localhost:8080/"
        },
        "outputId": "89d8d418-2898-449f-fe59-1b4663b0e372"
      },
      "outputs": [
        {
          "output_type": "stream",
          "name": "stdout",
          "text": [
            "Total Correct: 246\n",
            "Total Samples: 7172\n",
            "Accuracy: 3.4300055772448412%\n"
          ]
        }
      ],
      "source": [
        "evaluate_model(\n",
        "    model=model,\n",
        "    dataloader=val_dataloader,\n",
        "    device=device\n",
        ")"
      ]
    }
  ],
  "metadata": {
    "colab": {
      "provenance": [],
      "gpuType": "T4",
      "mount_file_id": "1sNgUfuGneN3YwHLkk12NbBZ-gDDzvUID",
      "authorship_tag": "ABX9TyN7Y4LxHERL4iYt+CYQiD3m"
    },
    "kernelspec": {
      "display_name": "Python 3",
      "name": "python3"
    },
    "language_info": {
      "name": "python"
    },
    "accelerator": "GPU"
  },
  "nbformat": 4,
  "nbformat_minor": 0
}