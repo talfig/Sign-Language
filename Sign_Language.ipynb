{
  "nbformat": 4,
  "nbformat_minor": 0,
  "metadata": {
    "colab": {
      "provenance": [],
      "mount_file_id": "1sNgUfuGneN3YwHLkk12NbBZ-gDDzvUID",
      "authorship_tag": "ABX9TyP6vl2YPdUCMNTpaZwgwYVH"
    },
    "kernelspec": {
      "name": "python3",
      "display_name": "Python 3"
    },
    "language_info": {
      "name": "python"
    }
  },
  "cells": [
    {
      "cell_type": "code",
      "execution_count": 8,
      "metadata": {
        "id": "_qXJTneqH3kH"
      },
      "outputs": [],
      "source": [
        "import torch\n",
        "import torchvision\n",
        "import pandas as pd\n",
        "import numpy as np\n",
        "import matplotlib.pyplot as plt\n",
        "import torch.nn as nn\n",
        "from torch.utils.data import DataLoader, Dataset\n",
        "from torchvision import transforms"
      ]
    },
    {
      "cell_type": "code",
      "source": [
        "df_train = pd.read_csv(\"/content/drive/MyDrive/Sign_Language/sign_mnist_train.csv\")\n",
        "df_test = pd.read_csv(\"/content/drive/MyDrive/Sign_Language/sign_mnist_test.csv\")"
      ],
      "metadata": {
        "id": "3vskEiVKJByA"
      },
      "execution_count": 51,
      "outputs": []
    },
    {
      "cell_type": "code",
      "source": [
        "# Separate labels and pixel values\n",
        "labels = df_train.iloc[:, 0].values\n",
        "pixels = df_train.iloc[:, 1:].values\n",
        "print(f\"labels = {labels}\\npixels = {pixels}\")"
      ],
      "metadata": {
        "colab": {
          "base_uri": "https://localhost:8080/"
        },
        "id": "o5zT9FU8SaO4",
        "outputId": "55498ea0-f7bf-4884-8abe-7b01205869f3"
      },
      "execution_count": 10,
      "outputs": [
        {
          "output_type": "stream",
          "name": "stdout",
          "text": [
            "labels = [ 3  6  2 ... 18 17 23]\n",
            "pixels = [[107 118 127 ... 204 203 202]\n",
            " [155 157 156 ... 103 135 149]\n",
            " [187 188 188 ... 195 194 195]\n",
            " ...\n",
            " [174 174 174 ... 202 200 200]\n",
            " [177 181 184 ...  64  87  93]\n",
            " [179 180 180 ... 205 209 215]]\n"
          ]
        }
      ]
    },
    {
      "cell_type": "code",
      "source": [
        "class AlexNet(nn.Module):\n",
        "  def __init__(self, num_classes, dropout=0.5):\n",
        "      super(AlexNet, self).__init__()\n",
        "      self.features = nn.Sequential(\n",
        "          nn.Conv2d(1, 64, 5, stride=1, padding=2),  # Adjusted kernel size, stride, and padding\n",
        "          nn.ReLU(),\n",
        "          nn.MaxPool2d(kernel_size=2, stride=2),  # Adjusted kernel size and stride\n",
        "          nn.Conv2d(64, 192, 5, stride=1, padding=2),\n",
        "          nn.ReLU(),\n",
        "          nn.MaxPool2d(kernel_size=2, stride=2),\n",
        "          nn.Conv2d(192, 384, 3, stride=1, padding=1),\n",
        "          nn.ReLU(),\n",
        "          nn.Conv2d(384, 256, 3, stride=1, padding=1),\n",
        "          nn.ReLU(),\n",
        "          nn.Conv2d(256, 256, 3, stride=1, padding=1),\n",
        "          nn.ReLU(),\n",
        "          nn.MaxPool2d(kernel_size=2, stride=2)  # Adjusted kernel size and stride\n",
        "      )\n",
        "      self.classifier = nn.Sequential(\n",
        "          nn.Dropout(p=dropout),\n",
        "          nn.Linear(256 * 3 * 3, 4096),  # Adjusted dimensions based on feature map size\n",
        "          nn.ReLU(),\n",
        "          nn.Dropout(p=dropout),\n",
        "          nn.Linear(4096, 4096),\n",
        "          nn.ReLU(),\n",
        "          nn.Linear(4096, num_classes),  # Adjusted to match the number of classes\n",
        "          nn.Softmax(dim=1)\n",
        "      )\n",
        "\n",
        "  def forward(self, x):\n",
        "      x = self.features(x)\n",
        "      x = x.view(x.size(0), -1)  # Flatten the tensor\n",
        "      x = self.classifier(x)\n",
        "      return x"
      ],
      "metadata": {
        "id": "ZgaMMK67MDQj"
      },
      "execution_count": 12,
      "outputs": []
    },
    {
      "cell_type": "code",
      "source": [
        "num_classes = df_train.iloc[:, 0].nunique() # starts from 1\n",
        "print(f'Number of unique labels: {num_classes}')"
      ],
      "metadata": {
        "colab": {
          "base_uri": "https://localhost:8080/"
        },
        "id": "XbKBEHPsYU_T",
        "outputId": "30ea6f26-49ed-4546-d77f-a49b1bf13a6b"
      },
      "execution_count": 30,
      "outputs": [
        {
          "output_type": "stream",
          "name": "stdout",
          "text": [
            "Number of unique labels: 24\n"
          ]
        }
      ]
    },
    {
      "cell_type": "code",
      "source": [
        "# Define your device\n",
        "device = torch.device(\"cuda\" if torch.cuda.is_available() else \"cpu\")\n",
        "\n",
        "model = AlexNet(num_classes=num_classes).to(device)\n",
        "epochs = 100 # number of single passes on the network\n",
        "loss_fnPrecents = nn.CrossEntropyLoss(ignore_index=24)\n",
        "optimizer = torch.optim.Adam(model.parameters(), lr=0.01)"
      ],
      "metadata": {
        "id": "3gJg_MDIUua8"
      },
      "execution_count": 68,
      "outputs": []
    },
    {
      "cell_type": "code",
      "source": [
        "class SignDataset(Dataset):\n",
        "    def __init__(self, pixels, labels, transform=None):\n",
        "        self.pixels = pixels\n",
        "        self.labels = labels\n",
        "        self.transform = transform\n",
        "\n",
        "    def __len__(self):\n",
        "        return len(self.labels)\n",
        "\n",
        "    def __getitem__(self, idx):\n",
        "        image = self.pixels[idx].reshape(28, 28).astype('float32')\n",
        "        label = self.labels[idx]\n",
        "\n",
        "        if self.transform:\n",
        "            image = self.transform(image)\n",
        "\n",
        "        return image, label"
      ],
      "metadata": {
        "id": "9-CUuKvwTlvG"
      },
      "execution_count": 45,
      "outputs": []
    },
    {
      "cell_type": "code",
      "source": [
        "transform = transforms.Compose([\n",
        "    transforms.ToTensor(),\n",
        "    transforms.Normalize((0.5,), (0.5,))\n",
        "])\n",
        "train_dataset = SignDataset(pixels, labels, transform=transform)\n",
        "train_dataloader = DataLoader(train_dataset, batch_size=100)"
      ],
      "metadata": {
        "id": "fCPECXOrSY4V"
      },
      "execution_count": 69,
      "outputs": []
    },
    {
      "cell_type": "code",
      "source": [
        "# Training loop\n",
        "def train_model(model, dataloader, epochs, optimizer, loss_fn, device):\n",
        "    model.train()\n",
        "    for epoch in range(epochs):\n",
        "        for images, labels in dataloader:\n",
        "            images, labels = images.to(device), labels.to(device)\n",
        "\n",
        "            # Forward pass\n",
        "            outputs = model(images)\n",
        "            loss = loss_fn(outputs, labels)\n",
        "\n",
        "            # Backward pass and optimization\n",
        "            optimizer.zero_grad()\n",
        "            loss.backward()\n",
        "            optimizer.step()\n",
        "\n",
        "def evaluate_model(model, dataloader, device):\n",
        "    model.eval()  # Set the model to evaluation mode\n",
        "    total, correct = 0, 0\n",
        "    with torch.no_grad():\n",
        "        for data, targets in dataloader:\n",
        "            data, targets = data.to(device), targets.to(device)  # Ensure data and targets are on the correct device\n",
        "            outputs = model(data)\n",
        "            _, predicted = torch.max(outputs.data, 1)\n",
        "            total += targets.size(0)\n",
        "            correct += (predicted == targets).sum().item()\n",
        "    return 100 * correct / total  # Return accuracy as a percentage"
      ],
      "metadata": {
        "id": "YYqDC0vmfK7D"
      },
      "execution_count": 70,
      "outputs": []
    },
    {
      "cell_type": "code",
      "source": [
        "train_model(model=model,\n",
        "            dataloader=train_dataloader,\n",
        "            epochs=epochs,\n",
        "            optimizer=optimizer,\n",
        "            loss_fn=loss_fnPrecents,\n",
        "            device=device)"
      ],
      "metadata": {
        "id": "3wzzlsyTUo92"
      },
      "execution_count": null,
      "outputs": []
    },
    {
      "cell_type": "code",
      "source": [
        "test_dataset = SignDataset(pixels, labels, transform=transform)\n",
        "test_dataloader = DataLoader(test_dataset, batch_size=100)"
      ],
      "metadata": {
        "id": "0bQyyWPZmhKd"
      },
      "execution_count": 57,
      "outputs": []
    },
    {
      "cell_type": "code",
      "source": [
        "accuracy_train = evaluate_model(\n",
        "    model=model,\n",
        "    dataloader=train_dataloader,\n",
        "    device=device)\n",
        "print(f\"train accuracy = {accuracy_train}\")"
      ],
      "metadata": {
        "colab": {
          "base_uri": "https://localhost:8080/"
        },
        "id": "-qsRT3bGm5oq",
        "outputId": "777274a9-1cad-4efc-8813-6f65b1d59382"
      },
      "execution_count": 66,
      "outputs": [
        {
          "output_type": "stream",
          "name": "stdout",
          "text": [
            "train accuracy = 3.0\n"
          ]
        }
      ]
    },
    {
      "cell_type": "code",
      "source": [
        "accuracy_test = evaluate_model(\n",
        "    model=model,\n",
        "    dataloader=test_dataloader,\n",
        "    device=device)\n",
        "print(f\"test accuracy = {accuracy_test}\")"
      ],
      "metadata": {
        "colab": {
          "base_uri": "https://localhost:8080/"
        },
        "id": "h3a6pVlOmYVh",
        "outputId": "0a6ebacc-bf43-4904-b2f3-c14daa54aa36"
      },
      "execution_count": 67,
      "outputs": [
        {
          "output_type": "stream",
          "name": "stdout",
          "text": [
            "test accuracy = 3.0\n"
          ]
        }
      ]
    }
  ]
}