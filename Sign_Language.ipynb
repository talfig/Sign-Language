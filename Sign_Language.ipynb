{
  "cells": [
    {
      "cell_type": "code",
      "execution_count": null,
      "metadata": {
        "id": "_qXJTneqH3kH"
      },
      "outputs": [],
      "source": [
        "import cv2\n",
        "import torch\n",
        "from PIL import Image\n",
        "import torchvision\n",
        "import pandas as pd\n",
        "import numpy as np\n",
        "import matplotlib.pyplot as plt\n",
        "import torch.nn as nn\n",
        "from torch.utils.data import DataLoader, Dataset\n",
        "from torchvision import transforms"
      ]
    },
    {
      "cell_type": "code",
      "execution_count": null,
      "metadata": {
        "id": "3vskEiVKJByA"
      },
      "outputs": [],
      "source": [
        "df_train = pd.read_csv('/content/drive/MyDrive/Sign_Language/sign_mnist_train.csv')\n",
        "df_test = pd.read_csv('/content/drive/MyDrive/Sign_Language/sign_mnist_test.csv')"
      ]
    },
    {
      "cell_type": "code",
      "execution_count": null,
      "metadata": {
        "colab": {
          "base_uri": "https://localhost:8080/"
        },
        "id": "o5zT9FU8SaO4",
        "outputId": "66e32b89-5b3d-4304-98fd-ee4eaaf35d1a"
      },
      "outputs": [
        {
          "output_type": "stream",
          "name": "stdout",
          "text": [
            "labels = [ 3  6  2 ... 18 17 23]\n",
            "pixels = [[107 118 127 ... 204 203 202]\n",
            " [155 157 156 ... 103 135 149]\n",
            " [187 188 188 ... 195 194 195]\n",
            " ...\n",
            " [174 174 174 ... 202 200 200]\n",
            " [177 181 184 ...  64  87  93]\n",
            " [179 180 180 ... 205 209 215]]\n"
          ]
        }
      ],
      "source": [
        "# Separate labels and pixel values\n",
        "labels_train = df_train.iloc[:, 0].values\n",
        "pixels_train = df_train.iloc[:, 1:].values\n",
        "print(f\"labels = {labels_train}\\npixels = {pixels_train}\")"
      ]
    },
    {
      "cell_type": "code",
      "execution_count": null,
      "metadata": {
        "colab": {
          "base_uri": "https://localhost:8080/"
        },
        "id": "8bWGrkisksda",
        "outputId": "da6ae5e3-c07d-4a90-a175-2e3036ad3f3d"
      },
      "outputs": [
        {
          "output_type": "stream",
          "name": "stdout",
          "text": [
            "labels = [ 6  5 10 ...  2  4  2]\n",
            "pixels = [[149 149 150 ... 112 120 107]\n",
            " [126 128 131 ... 184 182 180]\n",
            " [ 85  88  92 ... 225 224 222]\n",
            " ...\n",
            " [190 191 190 ... 211 209 208]\n",
            " [201 205 208 ...  67  70  63]\n",
            " [173 174 173 ... 195 193 192]]\n"
          ]
        }
      ],
      "source": [
        "# Separate labels and pixel values\n",
        "labels_test = df_test.iloc[:, 0].values\n",
        "pixels_test = df_test.iloc[:, 1:].values\n",
        "print(f\"labels = {labels_test}\\npixels = {pixels_test}\")"
      ]
    },
    {
      "cell_type": "code",
      "execution_count": null,
      "metadata": {
        "id": "1stDd0f1qiUQ"
      },
      "outputs": [],
      "source": [
        "class ResBlockDownSamp(nn.Module):\n",
        "  def __init__(self, in_channels, num_classes):\n",
        "    super().__init__()\n",
        "    out_channels = 2 * in_channels\n",
        "    self.relu = nn.ReLU()\n",
        "    self.conv1 = nn.Conv2d(in_channels,out_channels, 3, padding=1, stride=2, bias=False)\n",
        "    self.bn1 = nn.BatchNorm2d(out_channels)\n",
        "    self.conv2 = nn.Conv2d(out_channels, out_channels, 3, padding=\"same\", bias=False)\n",
        "    self.bn2 = nn.BatchNorm2d(out_channels)\n",
        "    self.downsampX = nn.Conv2d(in_channels, out_channels, 1, stride=2, bias=False)\n",
        "    self.classifier = nn.Sequential(\n",
        "      nn.AdaptiveAvgPool2d((1, 1)), # Global Average Pooling\n",
        "      nn.Flatten(),\n",
        "      nn.Dropout(0.5), # Dropout with 50% probability\n",
        "      nn.Linear(out_channels, num_classes)  # Add Linear layer for classification\n",
        "    )\n",
        "  def forward(self, X):\n",
        "    Y1 = self.conv1(X)\n",
        "    Y1 = self.bn1(Y1)\n",
        "    Y1 = self.relu(Y1)\n",
        "    Y1 = self.conv2(Y1)\n",
        "    Y1 = self.bn2(Y1)\n",
        "    Y2 = Y1 + self.downsampX(X)\n",
        "    Y = self.relu(Y2)\n",
        "    return Y"
      ]
    },
    {
      "cell_type": "code",
      "execution_count": null,
      "metadata": {
        "id": "ZgaMMK67MDQj"
      },
      "outputs": [],
      "source": [
        "class AlexNet(nn.Module):\n",
        "  def __init__(self, num_classes, dropout=0.5):\n",
        "      super(AlexNet, self).__init__()\n",
        "      self.features = nn.Sequential(\n",
        "          nn.Conv2d(1, 64, 5, stride=1, padding=2),  # Adjusted kernel size, stride, and padding\n",
        "          nn.ReLU(inplace=True),\n",
        "          nn.MaxPool2d(kernel_size=2, stride=2),  # Adjusted kernel size and stride\n",
        "          nn.Conv2d(64, 192, 5, stride=1, padding=2),\n",
        "          nn.ReLU(inplace=True),\n",
        "          nn.MaxPool2d(kernel_size=2, stride=2),\n",
        "          nn.Conv2d(192, 384, kernel_size=3, stride=1, padding=1),\n",
        "          nn.ReLU(inplace=True),\n",
        "          nn.Conv2d(384, 256, kernel_size=3, stride=1, padding=1),\n",
        "          nn.ReLU(inplace=True),\n",
        "          nn.Conv2d(256, 256, kernel_size=3, stride=1, padding=1),\n",
        "          nn.ReLU(inplace=True),\n",
        "          nn.MaxPool2d(kernel_size=2, stride=2)  # Adjusted kernel size and stride\n",
        "      )\n",
        "      self.classifier = nn.Sequential(\n",
        "          nn.Dropout(p=dropout),\n",
        "          nn.Linear(256 * 3 * 3, 4096),  # Adjusted dimensions based on feature map size\n",
        "          nn.ReLU(inplace=True),\n",
        "          nn.Dropout(p=dropout),\n",
        "          nn.Linear(4096, 4096),\n",
        "          nn.ReLU(inplace=True),\n",
        "          nn.Linear(4096, num_classes),  # Adjusted to match the number of classes\n",
        "          nn.Softmax(dim=1)\n",
        "      )\n",
        "\n",
        "  def forward(self, x):\n",
        "      x = self.features(x)\n",
        "      x = torch.flatten(x, start_dim=1)  # Flatten the tensor\n",
        "      x = self.classifier(x)\n",
        "      return x\n"
      ]
    },
    {
      "cell_type": "code",
      "execution_count": null,
      "metadata": {
        "colab": {
          "base_uri": "https://localhost:8080/"
        },
        "id": "XbKBEHPsYU_T",
        "outputId": "0175fec0-f06a-4205-f787-b21549f9875e"
      },
      "outputs": [
        {
          "output_type": "stream",
          "name": "stdout",
          "text": [
            "Number of unique labels: 24\n"
          ]
        }
      ],
      "source": [
        "NUM_CLASSES = df_train.iloc[:, 0].nunique()\n",
        "print(f'Number of unique labels: {NUM_CLASSES}')"
      ]
    },
    {
      "cell_type": "code",
      "execution_count": null,
      "metadata": {
        "id": "3gJg_MDIUua8"
      },
      "outputs": [],
      "source": [
        "# Define your device\n",
        "device = torch.device(\"cuda\" if torch.cuda.is_available() else \"cpu\")\n",
        "\n",
        "model = AlexNet(num_classes=NUM_CLASSES).to(device)\n",
        "epochs = 500 # number of single passes on the network\n",
        "loss_fnPrecents = nn.CrossEntropyLoss(ignore_index=24)\n",
        "optimizer = torch.optim.SGD(model.parameters(), lr=1e-2)"
      ]
    },
    {
      "cell_type": "code",
      "execution_count": null,
      "metadata": {
        "id": "9-CUuKvwTlvG"
      },
      "outputs": [],
      "source": [
        "class CustomDataset(Dataset):\n",
        "    def __init__(self, pixels, labels, transform=None):\n",
        "        self.pixels = pixels\n",
        "        self.labels = labels\n",
        "        self.transform = transform\n",
        "\n",
        "    def __len__(self):\n",
        "        return len(self.labels)\n",
        "\n",
        "    def __getitem__(self, idx):\n",
        "        image = self.pixels[idx].reshape(28, 28).astype('float32')\n",
        "        label = self.labels[idx].astype('int64')  # Ensure labels are of type int64\n",
        "\n",
        "        if self.transform:\n",
        "            image = self.transform(image)\n",
        "\n",
        "        return image, label"
      ]
    },
    {
      "cell_type": "code",
      "execution_count": null,
      "metadata": {
        "id": "fCPECXOrSY4V"
      },
      "outputs": [],
      "source": [
        "transform = transforms.Compose([\n",
        "    transforms.ToTensor(),\n",
        "])\n",
        "train_dataset = CustomDataset(pixels_train, labels_train, transform=transform)\n",
        "train_dataloader = DataLoader(train_dataset, batch_size=100)"
      ]
    },
    {
      "cell_type": "code",
      "execution_count": null,
      "metadata": {
        "id": "YYqDC0vmfK7D"
      },
      "outputs": [],
      "source": [
        "# Training loop\n",
        "def train_model(model, dataloader, epochs, optimizer, loss_fn, device):\n",
        "    model.train()\n",
        "    for epoch in range(epochs):\n",
        "        running_loss = 0.0\n",
        "        for images, labels in dataloader:\n",
        "            images, labels = images.to(device), labels.to(device)\n",
        "\n",
        "            # Forward pass\n",
        "            outputs = model(images)\n",
        "            loss = loss_fn(outputs, labels)\n",
        "\n",
        "            # Backward pass and optimization\n",
        "            optimizer.zero_grad()\n",
        "            loss.backward()\n",
        "            optimizer.step()\n",
        "\n",
        "            running_loss += loss.item()\n",
        "\n",
        "        print(f\"Epoch [{epoch+1}/{epochs}], Loss: {running_loss/len(dataloader):.4f}\")\n",
        "\n",
        "def evaluate_model(model, dataloader, device):\n",
        "    model.eval()  # Set the model to evaluation mode\n",
        "    total, correct = 0, 0\n",
        "    with torch.no_grad():\n",
        "        for data, targets in dataloader:\n",
        "            data, targets = data.to(device), targets.to(device)  # Ensure data and targets are on the correct device\n",
        "            outputs = model(data)\n",
        "            _, predicted = torch.max(outputs.data, 1)\n",
        "            total += targets.size(0)\n",
        "            correct += (predicted == targets).sum().item()\n",
        "\n",
        "    accuracy = 100 * correct / total  # Calculate accuracy as a percentage\n",
        "    print(f\"Total Correct: {correct}\")\n",
        "    print(f\"Total Samples: {total}\")\n",
        "    print(f\"Accuracy: {accuracy}%\")"
      ]
    },
    {
      "cell_type": "code",
      "execution_count": null,
      "metadata": {
        "id": "3wzzlsyTUo92"
      },
      "outputs": [],
      "source": [
        "train_model(model=model,\n",
        "            dataloader=train_dataloader,\n",
        "            epochs=epochs,\n",
        "            optimizer=optimizer,\n",
        "            loss_fn=loss_fnPrecents,\n",
        "            device=device)"
      ]
    },
    {
      "cell_type": "code",
      "execution_count": null,
      "metadata": {
        "id": "0bQyyWPZmhKd"
      },
      "outputs": [],
      "source": [
        "val_dataset = CustomDataset(pixels_test, labels_test, transform=transform)\n",
        "val_dataloader = DataLoader(val_dataset, batch_size=200)"
      ]
    },
    {
      "cell_type": "code",
      "execution_count": null,
      "metadata": {
        "id": "-qsRT3bGm5oq",
        "colab": {
          "base_uri": "https://localhost:8080/"
        },
        "outputId": "2c8f3269-091c-4141-8bd9-1072f39843a1"
      },
      "outputs": [
        {
          "output_type": "stream",
          "name": "stdout",
          "text": [
            "Total Correct: 26337\n",
            "Total Samples: 27455\n",
            "Accuracy: 95.92788198870879%\n"
          ]
        }
      ],
      "source": [
        "evaluate_model(\n",
        "    model=model,\n",
        "    dataloader=train_dataloader,\n",
        "    device=device\n",
        ")"
      ]
    },
    {
      "cell_type": "code",
      "execution_count": null,
      "metadata": {
        "id": "h3a6pVlOmYVh",
        "colab": {
          "base_uri": "https://localhost:8080/"
        },
        "outputId": "5eef0b98-dae9-46ab-e761-9a2ddc5f4e1e"
      },
      "outputs": [
        {
          "output_type": "stream",
          "name": "stdout",
          "text": [
            "Total Correct: 6655\n",
            "Total Samples: 7172\n",
            "Accuracy: 92.79141104294479%\n"
          ]
        }
      ],
      "source": [
        "evaluate_model(\n",
        "    model=model,\n",
        "    dataloader=val_dataloader,\n",
        "    device=device\n",
        ")"
      ]
    },
    {
      "cell_type": "code",
      "source": [
        "# Assuming 'model' is your trained model\n",
        "torch.save(model.state_dict(), 'model_weights.pth')  # Saves only the weights"
      ],
      "metadata": {
        "id": "-LgLfF5yr3-y"
      },
      "execution_count": null,
      "outputs": []
    },
    {
      "cell_type": "code",
      "source": [
        "# Load the state dictionary from the file\n",
        "state_dict = torch.load('/content/drive/MyDrive/Sign_Language/model_weights.pth')\n",
        "\n",
        "# Load the state dictionary into the model\n",
        "model.load_state_dict(state_dict)"
      ],
      "metadata": {
        "id": "FvfZGZFJqRkR",
        "colab": {
          "base_uri": "https://localhost:8080/"
        },
        "outputId": "7148386b-7763-4c2c-93f4-0bd778cf3c41"
      },
      "execution_count": null,
      "outputs": [
        {
          "output_type": "execute_result",
          "data": {
            "text/plain": [
              "<All keys matched successfully>"
            ]
          },
          "metadata": {},
          "execution_count": 15
        }
      ]
    },
    {
      "cell_type": "code",
      "source": [
        "img = cv2.imread('/content/boy_sign.jpg')\n",
        "\n",
        "gray_img = cv2.cvtColor(img, cv2.COLOR_BGR2GRAY)\n",
        "\n",
        "cv2.imwrite('gray_image.jpg', gray_img)\n",
        "\n",
        "# Display the grayscale image\n",
        "display(gray_img)"
      ],
      "metadata": {
        "colab": {
          "base_uri": "https://localhost:8080/",
          "height": 288
        },
        "id": "6oteQcscr6Kg",
        "outputId": "6f567f49-b140-44e2-bf0c-85fc8453eb21"
      },
      "execution_count": null,
      "outputs": [
        {
          "output_type": "display_data",
          "data": {
            "text/plain": [
              "array([[  7,   7,   6, ...,  10,  11,  11],\n",
              "       [  6,   7,   6, ...,  11,  11,  11],\n",
              "       [  6,   7,   6, ...,  11,  11,  11],\n",
              "       ...,\n",
              "       [ 10,  10,  10, ..., 226, 220, 211],\n",
              "       [ 10,  10,  10, ..., 226, 221, 213],\n",
              "       [ 10,  10,  10, ..., 224, 221, 209]], dtype=uint8)"
            ],
            "text/html": [
              "<style>\n",
              "      .ndarray_repr .ndarray_raw_data {\n",
              "        display: none;\n",
              "      }\n",
              "      .ndarray_repr.show_array .ndarray_raw_data {\n",
              "        display: block;\n",
              "      }\n",
              "      .ndarray_repr.show_array .ndarray_image_preview {\n",
              "        display: none;\n",
              "      }\n",
              "      </style>\n",
              "      <div id=\"id-ee05b4cc-dc41-49db-9725-daa82cd51995\" class=\"ndarray_repr\"><pre>ndarray (247, 370) <button style=\"padding: 0 2px;\">show data</button></pre><img src=\"data:image/png;base64,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\" class=\"ndarray_image_preview\" /><pre class=\"ndarray_raw_data\">array([[  7,   7,   6, ...,  10,  11,  11],\n",
              "       [  6,   7,   6, ...,  11,  11,  11],\n",
              "       [  6,   7,   6, ...,  11,  11,  11],\n",
              "       ...,\n",
              "       [ 10,  10,  10, ..., 226, 220, 211],\n",
              "       [ 10,  10,  10, ..., 226, 221, 213],\n",
              "       [ 10,  10,  10, ..., 224, 221, 209]], dtype=uint8)</pre></div><script>\n",
              "      (() => {\n",
              "      const titles = ['show data', 'hide data'];\n",
              "      let index = 0\n",
              "      document.querySelector('#id-ee05b4cc-dc41-49db-9725-daa82cd51995 button').onclick = (e) => {\n",
              "        document.querySelector('#id-ee05b4cc-dc41-49db-9725-daa82cd51995').classList.toggle('show_array');\n",
              "        index = (++index) % 2;\n",
              "        document.querySelector('#id-ee05b4cc-dc41-49db-9725-daa82cd51995 button').textContent = titles[index];\n",
              "        e.preventDefault();\n",
              "        e.stopPropagation();\n",
              "      }\n",
              "      })();\n",
              "    </script>"
            ]
          },
          "metadata": {}
        }
      ]
    },
    {
      "cell_type": "code",
      "source": [
        "# Load the image using OpenCV\n",
        "img = cv2.imread('/content/resized_image.png', cv2.IMREAD_GRAYSCALE)  # Read the image in grayscale\n",
        "\n",
        "# Convert to a PIL Image\n",
        "img_pil = Image.fromarray(img)\n",
        "\n",
        "# Define the transformation to convert PIL Image to a PyTorch tensor and normalize\n",
        "transform = transforms.Compose([\n",
        "    transforms.ToTensor(),\n",
        "    transforms.Resize((28, 28)),  # Ensure the image size matches the model's expected input size\n",
        "])\n",
        "\n",
        "# Apply the transformation\n",
        "array = transform(img_pil)\n",
        "\n",
        "# Add a batch dimension (B, C, H, W)\n",
        "array = array.unsqueeze(0)\n",
        "\n",
        "# Move the tensor to the same device as the model\n",
        "array = array.to(device)"
      ],
      "metadata": {
        "id": "31TQq-jA3klR"
      },
      "execution_count": 120,
      "outputs": []
    },
    {
      "cell_type": "code",
      "source": [
        "model.eval()\n",
        "# Disable gradient calculation\n",
        "with torch.no_grad():\n",
        "    output = model(array)\n",
        "    prediction = torch.max(output.data, 1)\n",
        "print(prediction)"
      ],
      "metadata": {
        "colab": {
          "base_uri": "https://localhost:8080/"
        },
        "id": "ICUwUlxa39S4",
        "outputId": "e2054a3f-fd0f-4b0b-be88-0ed9a1bdd931"
      },
      "execution_count": 125,
      "outputs": [
        {
          "output_type": "stream",
          "name": "stdout",
          "text": [
            "torch.return_types.max(\n",
            "values=tensor([0.0487], device='cuda:0'),\n",
            "indices=tensor([11], device='cuda:0'))\n"
          ]
        }
      ]
    }
  ],
  "metadata": {
    "colab": {
      "provenance": [],
      "gpuType": "T4",
      "mount_file_id": "1sNgUfuGneN3YwHLkk12NbBZ-gDDzvUID",
      "authorship_tag": "ABX9TyOaGHSWtfxQmK6SukqJmbwE"
    },
    "kernelspec": {
      "display_name": "Python 3",
      "name": "python3"
    },
    "language_info": {
      "name": "python"
    },
    "accelerator": "GPU"
  },
  "nbformat": 4,
  "nbformat_minor": 0
}